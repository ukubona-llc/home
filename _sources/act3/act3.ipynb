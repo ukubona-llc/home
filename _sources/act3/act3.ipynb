{
 "cells": [
  {
   "cell_type": "markdown",
   "metadata": {},
   "source": [
    "(monopolized)=\n",
    "# Monopolized\n",
    "\n",
    "\n",
    "\n",
    "```{figure} https://abikesa.github.io/davechappelle/_images/lewis-hamilton.JPG\n",
    "---\n",
    "width: 100%\n",
    "height: 100%\n",
    "---\n",
    "_Tokenization_. What does all this mean? See also {ref}`speculative`\n",
    "```\n"
   ]
  }
 ],
 "metadata": {
  "kernelspec": {
   "display_name": "myenv",
   "language": "python",
   "name": "python3"
  },
  "language_info": {
   "codemirror_mode": {
    "name": "ipython",
    "version": 3
   },
   "file_extension": ".py",
   "mimetype": "text/x-python",
   "name": "python",
   "nbconvert_exporter": "python",
   "pygments_lexer": "ipython3",
   "version": "3.12.4"
  },
  "widgets": {
   "application/vnd.jupyter.widget-state+json": {
    "state": {},
    "version_major": 2,
    "version_minor": 0
   }
  }
 },
 "nbformat": 4,
 "nbformat_minor": 4
}
