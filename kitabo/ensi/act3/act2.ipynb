{
 "cells": [
  {
   "cell_type": "markdown",
   "metadata": {},
   "source": [
    "(archetypal)=\n",
    "# Tokenized\n",
    "\n",
    "```{figure} https://abikesa.github.io/networks/_images/polina.png\n",
    "---\n",
    "width: 100%\n",
    "height: 100%\n",
    "---\n",
    "_Archetypal_. We only think of three things: ends 🗡️, means \\$, and cost 🩸. \n",
    "```\n",
    " \n"
   ]
  }
 ],
 "metadata": {
  "kernelspec": {
   "display_name": "myenv",
   "language": "python",
   "name": "python3"
  },
  "language_info": {
   "codemirror_mode": {
    "name": "ipython",
    "version": 3
   },
   "file_extension": ".py",
   "mimetype": "text/x-python",
   "name": "python",
   "nbconvert_exporter": "python",
   "pygments_lexer": "ipython3",
   "version": "3.12.4"
  },
  "widgets": {
   "application/vnd.jupyter.widget-state+json": {
    "state": {},
    "version_major": 2,
    "version_minor": 0
   }
  }
 },
 "nbformat": 4,
 "nbformat_minor": 4
}
