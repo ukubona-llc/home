{
 "cells": [
  {
   "cell_type": "markdown",
   "metadata": {},
   "source": [
    "(ship)=\n",
    "# Ship, 🚢\n",
    "\n",
    "```{figure} https://abikesa.github.io/guesswho/_images/commodification.png\n",
    "---\n",
    "width: 70%\n",
    "height: 70%\n",
    "---\n",
    "_Commodification_. Dave Chappelle’s battle with a network that sought to commodify his name and essence “in perpetuity throughout the universe” is a modern allegory of alienation. This is not merely a legal dispute over contractual terms; it is a clash over the soul of artistry, the interplay of identity, morality, and meaning. Chappelle’s insistence that the integrity of an artist—their soul, mind, and body—cannot be separated reflects a rejection of the capitalist reduction of human creativity into an alienated product. Through the lens (yellow node) of neural network, we believe a person should own their autobiography, since art is essentially autobiography in its [perspective](https://www.gutenberg.org/files/174/174-h/174-h.htm#chap00). See also {ref}`language`\n",
    "```\n"
   ]
  }
 ],
 "metadata": {
  "kernelspec": {
   "display_name": "myenv",
   "language": "python",
   "name": "python3"
  },
  "language_info": {
   "codemirror_mode": {
    "name": "ipython",
    "version": 3
   },
   "file_extension": ".py",
   "mimetype": "text/x-python",
   "name": "python",
   "nbconvert_exporter": "python",
   "pygments_lexer": "ipython3",
   "version": "3.12.4"
  },
  "widgets": {
   "application/vnd.jupyter.widget-state+json": {
    "state": {},
    "version_major": 2,
    "version_minor": 0
   }
  }
 },
 "nbformat": 4,
 "nbformat_minor": 4
}
